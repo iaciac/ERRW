{
 "cells": [
  {
   "cell_type": "code",
   "execution_count": 1,
   "id": "95a9ddf9",
   "metadata": {},
   "outputs": [],
   "source": [
    "import networkx as nx\n",
    "import numpy as np\n",
    "import random\n",
    "import matplotlib.pyplot as plt\n",
    "%matplotlib inline\n",
    " \n",
    "def run_ERRW(G, dw, T, n0=None):\n",
    "    \"\"\"\n",
    "    Running the ERRW.\n",
    "\n",
    "    Parameters\n",
    "    ----------\n",
    "    G : networkx Graph\n",
    "        Underlying structure.\n",
    "    dw : float\n",
    "        Edge-reinforcement.\n",
    "    T : int\n",
    "        Number of steps of the walk.\n",
    "    n0: object (default=None)\n",
    "        Seed node (has to be in G).\n",
    "    \n",
    "    Returns\n",
    "    -------\n",
    "    S : list\n",
    "        List of visited nodes.\n",
    "        \n",
    "    Note: the number of nodes N should be at least one order of magnitude greater than T\n",
    "    \"\"\"\n",
    "    \n",
    "    def get_next_node(G, initial_node):\n",
    "        neighbors = list(G.neighbors(initial_node))\n",
    "        weights = np.array([G[initial_node][neighbor]['weight'] for neighbor in neighbors])\n",
    "        norm_weights = 1.*weights/sum(weights)\n",
    "        next_node = np.random.choice(neighbors, p=norm_weights)\n",
    "        return next_node\n",
    "\n",
    "    #Setting the weights to the initial value\n",
    "    nx.set_edge_attributes(G, values=1, name='weight')\n",
    "    #Setting the seed node\n",
    "    if n0==None:\n",
    "        #Random seed\n",
    "        walker_position = random.choice(list(G.nodes))\n",
    "    else:\n",
    "        #Provided seed\n",
    "        walker_position = n0\n",
    "    \n",
    "    #Here I will store the walk sequence\n",
    "    S = []    \n",
    "    S.append(walker_position)\n",
    "\n",
    "    for t in range(T):\n",
    "        #Choosing the next node proportionally to the weights\n",
    "        next_node = get_next_node(G, walker_position)\n",
    "        #Reinforcing the weight of the traversed edge\n",
    "        G[walker_position][next_node]['weight'] += dw\n",
    "        walker_position = next_node\n",
    "        S.append(walker_position)\n",
    "        \n",
    "    return S\n",
    "\n",
    "def get_Heaps(S):\n",
    "    \"\"\"\n",
    "    Computing the Heaps' law\n",
    "    \n",
    "    Parameters\n",
    "    ----------\n",
    "    S : list\n",
    "        List of visited nodes. \n",
    "    \n",
    "    Returns\n",
    "    -------\n",
    "    D : list\n",
    "        List of unique number of visited nodes.\n",
    "    \n",
    "    \"\"\"\n",
    "    unique_items = set()\n",
    "    D = []\n",
    "    D.append(len(unique_items))\n",
    "    for s in S:\n",
    "        unique_items.add(s)\n",
    "        D.append(len(unique_items))\n",
    "    return D"
   ]
  },
  {
   "cell_type": "code",
   "execution_count": 2,
   "id": "0d641c28",
   "metadata": {},
   "outputs": [],
   "source": [
    "#ERRW parameters\n",
    "dw = 0.001\n",
    "T = 100000\n",
    "\n",
    "#SW network parameters\n",
    "N = 1000000\n",
    "K = 4\n",
    "p = 0.2\n",
    "\n",
    "G = nx.connected_watts_strogatz_graph(n=N, k=K, p=p, tries=500)"
   ]
  },
  {
   "cell_type": "code",
   "execution_count": 3,
   "id": "59f51ab5",
   "metadata": {},
   "outputs": [],
   "source": [
    "S = run_ERRW(G, dw, T, n0=None)\n",
    "D = get_Heaps(S)"
   ]
  },
  {
   "cell_type": "code",
   "execution_count": 4,
   "id": "1686fa0a",
   "metadata": {},
   "outputs": [
    {
     "data": {
      "image/png": "[encoded data removed]",
      "text/plain": [
       "<Figure size 432x288 with 1 Axes>"
      ]
     },
     "metadata": {
      "needs_background": "light"
     },
     "output_type": "display_data"
    }
   ],
   "source": [
    "plt.plot(D)\n",
    "plt.yscale('log')\n",
    "plt.xscale('log')"
   ]
  }
 ],
 "metadata": {
  "kernelspec": {
   "display_name": "Python [conda env:pyenv] *",
   "language": "python",
   "name": "conda-env-pyenv-py"
  },
  "language_info": {
   "codemirror_mode": {
    "name": "ipython",
    "version": 3
   },
   "file_extension": ".py",
   "mimetype": "text/x-python",
   "name": "python",
   "nbconvert_exporter": "python",
   "pygments_lexer": "ipython3",
   "version": "3.10.2"
  }
 },
 "nbformat": 4,
 "nbformat_minor": 5
}
